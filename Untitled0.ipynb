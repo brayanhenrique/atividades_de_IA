{
  "nbformat": 4,
  "nbformat_minor": 0,
  "metadata": {
    "colab": {
      "provenance": [],
      "authorship_tag": "ABX9TyMs4jZWWteLLhhgVsOsLOLR",
      "include_colab_link": true
    },
    "kernelspec": {
      "name": "python3",
      "display_name": "Python 3"
    },
    "language_info": {
      "name": "python"
    }
  },
  "cells": [
    {
      "cell_type": "markdown",
      "metadata": {
        "id": "view-in-github",
        "colab_type": "text"
      },
      "source": [
        "<a href=\"https://colab.research.google.com/github/brayanhenrique/atividades_de_IA/blob/main/Untitled0.ipynb\" target=\"_parent\"><img src=\"https://colab.research.google.com/assets/colab-badge.svg\" alt=\"Open In Colab\"/></a>"
      ]
    },
    {
      "cell_type": "markdown",
      "source": [
        "Brayan,Guilherme e Mátias\n"
      ],
      "metadata": {
        "id": "qmvDVhmgMhDc"
      }
    },
    {
      "cell_type": "markdown",
      "source": [
        "Primeiro modelo gan de IA. É utilizado para aprendizado de máquina para gerar novos dados semelhantes á um conjunto de dados de treinamento."
      ],
      "metadata": {
        "id": "7qK1o6XKCbCA"
      }
    },
    {
      "cell_type": "code",
      "execution_count": null,
      "metadata": {
        "id": "bGXDrkkczgPg",
        "outputId": "648ba75e-083e-45aa-c5b7-537d6a3177a3",
        "colab": {
          "base_uri": "https://localhost:8080/",
          "height": 469
        }
      },
      "outputs": [
        {
          "output_type": "stream",
          "name": "stdout",
          "text": [
            "\u001b[1m1/1\u001b[0m \u001b[32m━━━━━━━━━━━━━━━━━━━━\u001b[0m\u001b[37m\u001b[0m \u001b[1m0s\u001b[0m 154ms/step\n"
          ]
        },
        {
          "output_type": "display_data",
          "data": {
            "text/plain": [
              "<Figure size 640x480 with 1 Axes>"
            ],
            "image/png": "[encoded data removed]"
          },
          "metadata": {}
        }
      ],
      "source": [
        "#Importando as blibiotecas que vou usar\n",
        "import tensorflow as tf\n",
        "from tensorflow.keras import layers\n",
        "import numpy as np\n",
        "import matplotlib.pyplot as plt\n",
        "\n",
        "#função para criar um gerador\n",
        "def build_generator(latent_dim, output_shape):\n",
        "  model = tf.keras.Sequential()\n",
        "  model.add(layers.Dense(256, input_dim=latent_dim, activation=\"relu\"))\n",
        "  model.add(layers.BatchNormalization())\n",
        "  model.add(layers.Dense(512, activation=\"relu\"))\n",
        "  model.add(layers.BatchNormalization())\n",
        "  model.add(layers.Dense(1024, activation=\"relu\"))\n",
        "  model.add(layers.BatchNormalization())\n",
        "  model.add(layers.Dense(output_shape, activation=\"tanh\"))\n",
        "  return model\n",
        "\n",
        "#função para criar o discriminador\n",
        "def build_discriminator(input_shape):\n",
        "    model = tf.keras.Sequential()\n",
        "    model.add(layers.Dense(1024, input_shape=(input_shape), activation=\"relu\"))\n",
        "    model.add(layers.Dropout(0.3))\n",
        "    model.add(layers.Dense(512, activation=\"relu\"))\n",
        "    model.add(layers.Dropout(0.3))\n",
        "    model.add(layers.Dense(256, activation=\"relu\"))\n",
        "    model.add(layers.Dropout(0.3))\n",
        "    model.add(layers.Dense(1, activation= \"sigmoid\"))\n",
        "    return model\n",
        "\n",
        "#função modelo gan\n",
        "def build_gan(generator , discriminator):\n",
        "  discriminator.trainable = False\n",
        "  model = tf.keras.Sequential()\n",
        "  model.add(generator)\n",
        "  model.add(discriminator)\n",
        "  return model\n",
        "\n",
        "#dimenções\n",
        "latent_dim = 100\n",
        "output_shape = (28, 28, 1)\n",
        "\n",
        "#criando as intâncias\n",
        "generator = build_generator(latent_dim, 784)\n",
        "discriminator = build_discriminator(output_shape)\n",
        "gan = build_gan(generator, discriminator)\n",
        "\n",
        "#compilações\n",
        "#generator.compile(loss=\"binary_crossentropy\", optimizer = \"adam\")\n",
        "discriminator.compile(loss = \"binary_crossentropy\", optimizer = \"adam\", metrics=[\"accuracy\"])\n",
        "gan.compile(loss=\"binary_crossentropy\", optimizer =\"adam\")\n",
        "\n",
        "#gerando imagens\n",
        "random_latent_vectors = np.random.normal(0, 1, (1, latent_dim))\n",
        "generated_image = generator.predict(random_latent_vectors)\n",
        "\n",
        "#redimensionando a imagem para 28x28 (no caso estar utilizando MINIST)\n",
        "generated_image = generated_image.reshape(28 ,28)\n",
        "\n",
        "#Exibindo a imagem gerada\n",
        "plt.imshow(generated_image, cmap= \"gray\")\n",
        "plt.title(\"imagem gerada pelo Gerador\")\n",
        "plt.show()\n"
      ]
    },
    {
      "cell_type": "markdown",
      "source": [
        "Este código uma vez treinado pode gerar novos que parecem pertercer ao mesmo conjunto de dados que foi usado para treinamento, como imagens que se assemelha a digitos manuscritos (por exemplo, MNIIST)"
      ],
      "metadata": {
        "id": "ewTaZK82Ddm_"
      }
    },
    {
      "cell_type": "code",
      "source": [],
      "metadata": {
        "id": "7HvvPKb9MEkk"
      },
      "execution_count": null,
      "outputs": []
    }
  ]
}